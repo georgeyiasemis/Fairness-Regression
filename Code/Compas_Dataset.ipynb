{
  "nbformat": 4,
  "nbformat_minor": 0,
  "metadata": {
    "colab": {
      "name": "Compas Dataset",
      "provenance": [],
      "collapsed_sections": []
    },
    "kernelspec": {
      "name": "python3",
      "display_name": "Python 3"
    }
  },
  "cells": [
    {
      "cell_type": "markdown",
      "metadata": {
        "id": "STiGuHNgXbn-",
        "colab_type": "text"
      },
      "source": [
        "# Experiments on the COMPAS Dataset\n",
        "\n"
      ]
    },
    {
      "cell_type": "markdown",
      "metadata": {
        "id": "Moqnt9T7u1Vx",
        "colab_type": "text"
      },
      "source": [
        "Install ```AIF360``` with minimum requirements:"
      ]
    },
    {
      "cell_type": "code",
      "metadata": {
        "id": "mB-wYLvqvHpG",
        "colab_type": "code",
        "colab": {}
      },
      "source": [
        "!pip install aif360"
      ],
      "execution_count": 0,
      "outputs": []
    },
    {
      "cell_type": "markdown",
      "metadata": {
        "id": "JkgcnsFlXm9L",
        "colab_type": "text"
      },
      "source": [
        "Install packages that we will use:"
      ]
    },
    {
      "cell_type": "code",
      "metadata": {
        "id": "3wzAqb-HLUkY",
        "colab_type": "code",
        "colab": {}
      },
      "source": [
        "import numpy as np\n",
        "import matplotlib.pyplot as plt\n",
        "import pickle\n",
        "\n",
        "from aif360.algorithms.preprocessing.optim_preproc_helpers.data_preproc_functions \\\n",
        "    import load_preproc_data_compas\n",
        "from aif360.algorithms.preprocessing.reweighing import Reweighing\n",
        "from aif360.metrics import ClassificationMetric\n",
        "\n",
        "from sklearn.preprocessing import StandardScaler\n",
        "#from sklearn.linear_model import LogisticRegression\n",
        "\n",
        "import torch\n",
        "from torch.autograd import Variable\n",
        "import torchvision.transforms as transforms\n",
        "import torchvision.datasets as dsets\n",
        "import torch.utils.data as Data\n"
      ],
      "execution_count": 0,
      "outputs": []
    },
    {
      "cell_type": "code",
      "metadata": {
        "id": "1rRZrmYp6wBA",
        "colab_type": "code",
        "colab": {}
      },
      "source": [
        "# These 2 functions will help us save and load objects\n",
        "path = \"/content/drive/My Drive/Colab Notebooks/Ethics/\"\n",
        "def save_obj(obj, name ):\n",
        "    with open(path+ name + '.pkl', 'wb') as f:\n",
        "        pickle.dump(obj, f, pickle.HIGHEST_PROTOCOL)\n",
        "\n",
        "def load_obj(name ):\n",
        "    with open(path + name + '.pkl', 'rb') as f:\n",
        "        return pickle.load(f)"
      ],
      "execution_count": 0,
      "outputs": []
    },
    {
      "cell_type": "markdown",
      "metadata": {
        "id": "EfuO2EiAXp13",
        "colab_type": "text"
      },
      "source": [
        "Define privileged and unprivileged groups:"
      ]
    },
    {
      "cell_type": "code",
      "metadata": {
        "id": "wePWRzBY0ppG",
        "colab_type": "code",
        "colab": {}
      },
      "source": [
        "privileged_groups = [{'race': 1}]\n",
        "unprivileged_groups = [{'race': 0}]"
      ],
      "execution_count": 0,
      "outputs": []
    },
    {
      "cell_type": "markdown",
      "metadata": {
        "id": "yhxr2Aobz2CL",
        "colab_type": "text"
      },
      "source": [
        "Load COMPAS Dataset with 'race' as the sensitive attribute:"
      ]
    },
    {
      "cell_type": "code",
      "metadata": {
        "id": "RtV0-3Rc0tEl",
        "colab_type": "code",
        "colab": {}
      },
      "source": [
        "# COMPAS DATASET\n",
        "compas_dataset_orig = load_preproc_data_compas(['race'])"
      ],
      "execution_count": 0,
      "outputs": []
    },
    {
      "cell_type": "markdown",
      "metadata": {
        "id": "2N6ID5Y77QcZ",
        "colab_type": "text"
      },
      "source": [
        "Visualise Compas dataset with respect to the taget label ('Likelihood of reoffeding in 2 years'; Did recid(=1) or No recid(=0) and the sensitive attribute (race):"
      ]
    },
    {
      "cell_type": "code",
      "metadata": {
        "id": "SI7X2-YT7Nzn",
        "colab_type": "code",
        "outputId": "b8f08baa-ed3b-4ae3-83f5-8ff986093be7",
        "colab": {
          "base_uri": "https://localhost:8080/",
          "height": 470
        }
      },
      "source": [
        "df = compas_dataset_orig.metadata['params']['df'].copy()\n",
        "# Favored class == 1.0 (Caucasian)\n",
        "\n",
        "# Number of Caucasian with no reicid (0.0)\n",
        "caucasian_no_recid = sum(df[((df['race'] == 1.0))]['two_year_recid'] == 0.0) \n",
        "\n",
        "# Number of Caucasian who did reicid (1.0)\n",
        "caucasian_did_recid = sum(df[((df['race'] == 1.0))]['two_year_recid'] == 1.0)\n",
        "\n",
        "# Number of non-Caucasian with no reicid (0.0)\n",
        "non_caucasian_no_recid = sum(df[((df['race'] == 0.0))]['two_year_recid'] == 0.0) \n",
        "\n",
        "# Number of non-Caucasian who did reicid (1.0)\n",
        "non_caucasian_did_recid = sum(df[((df['race'] == 0.0))]['two_year_recid'] == 1.0) \n",
        "\n",
        "\n",
        "print('Caucasian (Privilaged)')\n",
        "print('No recid:', caucasian_no_recid,'\\tDid recid:', caucasian_did_recid, 'Total:', caucasian_no_recid + caucasian_did_recid)\n",
        "print('Non-Caucasian')\n",
        "print('No recid:', non_caucasian_no_recid,'\\tDid recid:', non_caucasian_did_recid, 'Total:', non_caucasian_no_recid + non_caucasian_did_recid)\n",
        "print('\\n\\t\\t\\t\\t\\tTotal:', caucasian_no_recid + caucasian_did_recid + non_caucasian_no_recid + non_caucasian_did_recid)\n",
        "# Plot a bar graph:\n",
        "labels = ['Non-Caucasian', 'Caucasian']\n",
        "did_recid = [non_caucasian_did_recid, caucasian_did_recid]\n",
        "no_recid = [non_caucasian_no_recid, caucasian_no_recid]\n",
        "\n",
        "x = np.arange(len(labels))  # the label locations\n",
        "width = 0.4  # the width of the bars\n",
        "\n",
        "fig, ax = plt.subplots(figsize=(7,5))\n",
        "rects1 = ax.bar(x - width/2, did_recid, width, label='Did recid(=1)')\n",
        "rects2 = ax.bar(x + width/2, no_recid, width, label='No recid(=0)')\n",
        "\n",
        "ax.set_ylabel('Counts')\n",
        "ax.set_title(\"Did/din't recid by race\")\n",
        "ax.set_xticks(x)\n",
        "ax.set_xticklabels(labels)\n",
        "ax.legend()\n",
        "\n",
        "fig.tight_layout()\n",
        "\n",
        "plt.show()"
      ],
      "execution_count": 0,
      "outputs": [
        {
          "output_type": "stream",
          "text": [
            "Caucasian (Privilaged)\n",
            "No recid: 1281 \tDid recid: 822 Total: 2103\n",
            "Non-Caucasian\n",
            "No recid: 1514 \tDid recid: 1661 Total: 3175\n",
            "\n",
            "\t\t\t\t\tTotal: 5278\n"
          ],
          "name": "stdout"
        },
        {
          "output_type": "display_data",
          "data": {
            "image/png": "[encoded data removed]",
            "text/plain": [
              "<Figure size 504x360 with 1 Axes>"
            ]
          },
          "metadata": {
            "tags": []
          }
        }
      ]
    },
    {
      "cell_type": "markdown",
      "metadata": {
        "id": "pGA4umZR02L5",
        "colab_type": "text"
      },
      "source": [
        "Split Dataset into training and test data:"
      ]
    },
    {
      "cell_type": "code",
      "metadata": {
        "id": "lblzYQ_Q07ZH",
        "colab_type": "code",
        "colab": {}
      },
      "source": [
        "train, test = compas_dataset_orig.split([0.7], shuffle=True)"
      ],
      "execution_count": 0,
      "outputs": []
    },
    {
      "cell_type": "code",
      "metadata": {
        "id": "sak5uH7jEx6D",
        "colab_type": "code",
        "colab": {}
      },
      "source": [
        "# Preprocess data\n",
        "scale_orig = StandardScaler()\n",
        "\n",
        "X_train = scale_orig.fit_transform(train.features)\n",
        "y_train = train.labels.ravel()\n",
        "\n",
        "X_test = scale_orig.transform(test.features)\n",
        "y_test = test.labels.ravel()"
      ],
      "execution_count": 0,
      "outputs": []
    },
    {
      "cell_type": "markdown",
      "metadata": {
        "id": "fb4IZMfxX_qZ",
        "colab_type": "text"
      },
      "source": [
        "Create a Logistic Regression class with pytorch:"
      ]
    },
    {
      "cell_type": "code",
      "metadata": {
        "id": "DUZ_2tnniemT",
        "colab_type": "code",
        "colab": {}
      },
      "source": [
        "class LogisticRegression_torch(torch.nn.Module):\n",
        "    def __init__(self, input_dim, output_dim):\n",
        "        super(LogisticRegression_torch, self).__init__()\n",
        "        self.linear = torch.nn.Linear(input_dim, output_dim)\n",
        "\n",
        "    def forward(self, x):\n",
        "        outputs = torch.sigmoid(self.linear(x))\n",
        "        return outputs"
      ],
      "execution_count": 0,
      "outputs": []
    },
    {
      "cell_type": "code",
      "metadata": {
        "id": "kdWf5TkbjEdA",
        "colab_type": "code",
        "colab": {}
      },
      "source": [
        "GPU = True\n",
        "device_idx = 0\n",
        "if GPU:\n",
        "    device = torch.device(\"cuda:\" + str(device_idx) if torch.cuda.is_available() else \"cpu\")\n",
        "else:\n",
        "    device = torch.device(\"cpu\")\n",
        "BATCH_SIZE = 128\n",
        "learning_rate = 0.0001\n",
        "\n",
        "# Create a DataTensor\n",
        "train_dataset = Data.TensorDataset(torch.tensor(X_train).float(), torch.Tensor(y_train).float())\n",
        "if device == 0:\n",
        "    num_workers = 2\n",
        "else:\n",
        "    num_workers = 0\n",
        "    \n",
        "# Data Loader\n",
        "loader_train = Data.DataLoader(\n",
        "    dataset=train_dataset, \n",
        "    batch_size=BATCH_SIZE, \n",
        "    shuffle=True, num_workers=num_workers)"
      ],
      "execution_count": 0,
      "outputs": []
    },
    {
      "cell_type": "markdown",
      "metadata": {
        "id": "ejuz3AryYKaH",
        "colab_type": "text"
      },
      "source": [
        "Train a LR-model for each regularization parameter $\\lambda$ and test on the test set:"
      ]
    },
    {
      "cell_type": "code",
      "metadata": {
        "id": "9ohnlEcVjlE_",
        "colab_type": "code",
        "outputId": "c38a8c74-e5d8-4975-bdea-b4557f1997d0",
        "colab": {
          "base_uri": "https://localhost:8080/",
          "height": 1000
        }
      },
      "source": [
        "criterion = torch.nn.BCELoss(reduction='sum')\n",
        "epochs = 20\n",
        "accuracies = []\n",
        "metrics = {}\n",
        "lambdas = [0.0, 0.00001, 0.0001, 0.001, 0.01, 0.1, 0.2, 0.3, 0.5, 0.7, 0.9]\n",
        "lambdas = np.concatenate((np.array(lambdas), np.linspace(1, 100, num=100)))\n",
        "\n",
        "for reg_lambda in lambdas:\n",
        "    print('Lambda:', reg_lambda,'\\n')\n",
        "    model = LogisticRegression_torch(X_train.shape[1], 1)\n",
        "    optimizer = torch.optim.SGD(model.parameters(), lr=0.0001)  \n",
        "    for epoch in range(epochs):\n",
        "        train_loss = 0.0\n",
        "        for i, (x, y) in enumerate(loader_train):\n",
        "            \n",
        "        # Converting inputs and labels to Variable\n",
        "\n",
        "            inputs = Variable(x.to(device))\n",
        "            labels = Variable(y.to(device))\n",
        "\n",
        "            # Clear gradient buffers because we don't want any gradient \n",
        "            # from previous epoch to carry forward, dont want to cummulate gradients\n",
        "            optimizer.zero_grad()\n",
        "\n",
        "            # get output from the model, given the inputs\n",
        "            outputs = model(inputs)\n",
        "\n",
        "            # Regularization\n",
        "            reg = 0\n",
        "            for param in model.parameters():\n",
        "                reg += 0.5 * (param ** 2).sum()\n",
        "                #reg += param.abs().sum()\n",
        "            # reg_lambda = 0\n",
        "            \n",
        "            # get loss for the predicted output\n",
        "            loss = criterion(outputs.reshape(outputs.shape[0]), labels) + \\\n",
        "                reg_lambda * reg\n",
        "            \n",
        "                \n",
        "            train_loss += loss.item()\n",
        "            \n",
        "            # get gradients w.r.t to parameters\n",
        "            loss.backward()\n",
        "            \n",
        "            # update parameters\n",
        "            optimizer.step()\n",
        "        \n",
        "        if (epoch + 1) % 5 == 0:\n",
        "            print('epoch [{}/{}], Training loss:{:.6f}'.format(\n",
        "                epoch + 1, \n",
        "                epochs, \n",
        "                train_loss / len(loader_train.dataset)))\n",
        "    with torch.no_grad():\n",
        "        model.eval()\n",
        "        out = model(Variable(torch.Tensor(X_test).to(device))).detach().cpu()\n",
        "        pred = (out >= 0.5).int().numpy().squeeze()\n",
        "        accuracy = sum((y_test == pred))/len(y_test)\n",
        "    \n",
        "    print('Accuracy: ', accuracy,'\\n')\n",
        "    accuracies.append(accuracy)\n",
        "\n",
        "    test_pred = test.copy()\n",
        "    test_pred.labels = pred.reshape(-1,1)\n",
        "    metric = ClassificationMetric(test, test_pred,unprivileged_groups=unprivileged_groups, privileged_groups=privileged_groups)\n",
        "\n",
        "    metrics[reg_lambda] = {}\n",
        "    metrics[reg_lambda]['accuracy'] = accuracy\n",
        "    metrics[reg_lambda]['privilaged'] = metric.performance_measures(privileged=True)\n",
        "    metrics[reg_lambda]['unprivilaged'] = metric.performance_measures(privileged=False)\n",
        "\n",
        "    met = metric.binary_confusion_matrix(privileged=True)\n",
        "    PR_priv = (met['TP'] + met['FP']) / (met['TP'] + met['FP'] + met['TN'] + met['FN'])\n",
        "    metrics[reg_lambda]['privilaged']['PR'] = PR_priv\n",
        "\n",
        "    met = metric.binary_confusion_matrix(privileged=False)\n",
        "    PR_unpriv = (met['TP'] + met['FP']) / (met['TP'] + met['FP'] + met['TN'] + met['FN'])\n",
        "    metrics[reg_lambda]['unprivilaged']['PR'] = PR_unpriv\n",
        "\n",
        "save_obj(metrics, 'metrics_compas')"
      ],
      "execution_count": 0,
      "outputs": [
        {
          "output_type": "stream",
          "text": [
            "Lambda: 0.0 \n",
            "\n",
            "epoch [5/20], Training loss:0.677711\n",
            "epoch [10/20], Training loss:0.642206\n",
            "epoch [15/20], Training loss:0.628284\n",
            "epoch [20/20], Training loss:0.622382\n",
            "Accuracy:  0.6616161616161617 \n",
            "\n",
            "Lambda: 1e-05 \n",
            "\n",
            "epoch [5/20], Training loss:0.666476\n",
            "epoch [10/20], Training loss:0.635357\n",
            "epoch [15/20], Training loss:0.624801\n",
            "epoch [20/20], Training loss:0.620620\n",
            "Accuracy:  0.6559343434343434 \n",
            "\n",
            "Lambda: 0.0001 \n",
            "\n",
            "epoch [5/20], Training loss:0.661195\n",
            "epoch [10/20], Training loss:0.632532\n",
            "epoch [15/20], Training loss:0.623064\n",
            "epoch [20/20], Training loss:0.619569\n",
            "Accuracy:  0.6603535353535354 \n",
            "\n",
            "Lambda: 0.001 \n",
            "\n",
            "epoch [5/20], Training loss:0.670687\n",
            "epoch [10/20], Training loss:0.637157\n",
            "epoch [15/20], Training loss:0.624960\n",
            "epoch [20/20], Training loss:0.620338\n",
            "Accuracy:  0.6660353535353535 \n",
            "\n",
            "Lambda: 0.01 \n",
            "\n",
            "epoch [5/20], Training loss:0.662612\n",
            "epoch [10/20], Training loss:0.633328\n",
            "epoch [15/20], Training loss:0.623088\n",
            "epoch [20/20], Training loss:0.619357\n",
            "Accuracy:  0.6660353535353535 \n",
            "\n",
            "Lambda: 0.1 \n",
            "\n",
            "epoch [5/20], Training loss:0.655593\n",
            "epoch [10/20], Training loss:0.629402\n",
            "epoch [15/20], Training loss:0.621865\n",
            "epoch [20/20], Training loss:0.619190\n",
            "Accuracy:  0.6616161616161617 \n",
            "\n",
            "Lambda: 0.2 \n",
            "\n",
            "epoch [5/20], Training loss:0.656684\n",
            "epoch [10/20], Training loss:0.631536\n",
            "epoch [15/20], Training loss:0.622889\n",
            "epoch [20/20], Training loss:0.619697\n",
            "Accuracy:  0.6603535353535354 \n",
            "\n",
            "Lambda: 0.3 \n",
            "\n",
            "epoch [5/20], Training loss:0.637168\n",
            "epoch [10/20], Training loss:0.625296\n",
            "epoch [15/20], Training loss:0.620931\n",
            "epoch [20/20], Training loss:0.619185\n",
            "Accuracy:  0.6660353535353535 \n",
            "\n",
            "Lambda: 0.5 \n",
            "\n",
            "epoch [5/20], Training loss:0.671566\n",
            "epoch [10/20], Training loss:0.637262\n",
            "epoch [15/20], Training loss:0.625956\n",
            "epoch [20/20], Training loss:0.621632\n",
            "Accuracy:  0.6534090909090909 \n",
            "\n",
            "Lambda: 0.7 \n",
            "\n",
            "epoch [5/20], Training loss:0.642170\n",
            "epoch [10/20], Training loss:0.628684\n",
            "epoch [15/20], Training loss:0.623471\n",
            "epoch [20/20], Training loss:0.621093\n",
            "Accuracy:  0.6622474747474747 \n",
            "\n",
            "Lambda: 0.9 \n",
            "\n",
            "epoch [5/20], Training loss:0.635188\n",
            "epoch [10/20], Training loss:0.624221\n",
            "epoch [15/20], Training loss:0.620938\n",
            "epoch [20/20], Training loss:0.619747\n",
            "Accuracy:  0.6597222222222222 \n",
            "\n",
            "Lambda: 1.0 \n",
            "\n",
            "epoch [5/20], Training loss:0.685813\n",
            "epoch [10/20], Training loss:0.642521\n",
            "epoch [15/20], Training loss:0.628354\n",
            "epoch [20/20], Training loss:0.623142\n",
            "Accuracy:  0.6546717171717171 \n",
            "\n",
            "Lambda: 2.0 \n",
            "\n",
            "epoch [5/20], Training loss:0.672888\n",
            "epoch [10/20], Training loss:0.637716\n",
            "epoch [15/20], Training loss:0.628054\n",
            "epoch [20/20], Training loss:0.624513\n",
            "Accuracy:  0.6609848484848485 \n",
            "\n",
            "Lambda: 3.0 \n",
            "\n",
            "epoch [5/20], Training loss:0.648289\n",
            "epoch [10/20], Training loss:0.631651\n",
            "epoch [15/20], Training loss:0.626274\n",
            "epoch [20/20], Training loss:0.624386\n",
            "Accuracy:  0.6597222222222222 \n",
            "\n",
            "Lambda: 4.0 \n",
            "\n",
            "epoch [5/20], Training loss:0.655234\n",
            "epoch [10/20], Training loss:0.635678\n",
            "epoch [15/20], Training loss:0.629397\n",
            "epoch [20/20], Training loss:0.626839\n",
            "Accuracy:  0.6609848484848485 \n",
            "\n",
            "Lambda: 5.0 \n",
            "\n",
            "epoch [5/20], Training loss:0.647787\n",
            "epoch [10/20], Training loss:0.633015\n",
            "epoch [15/20], Training loss:0.628628\n",
            "epoch [20/20], Training loss:0.627186\n",
            "Accuracy:  0.6641414141414141 \n",
            "\n",
            "Lambda: 6.0 \n",
            "\n",
            "epoch [5/20], Training loss:0.663176\n",
            "epoch [10/20], Training loss:0.642325\n",
            "epoch [15/20], Training loss:0.635441\n",
            "epoch [20/20], Training loss:0.632577\n",
            "Accuracy:  0.6609848484848485 \n",
            "\n",
            "Lambda: 7.0 \n",
            "\n",
            "epoch [5/20], Training loss:0.644015\n",
            "epoch [10/20], Training loss:0.632434\n",
            "epoch [15/20], Training loss:0.630220\n",
            "epoch [20/20], Training loss:0.629658\n",
            "Accuracy:  0.663510101010101 \n",
            "\n",
            "Lambda: 8.0 \n",
            "\n",
            "epoch [5/20], Training loss:0.653222\n",
            "epoch [10/20], Training loss:0.638740\n",
            "epoch [15/20], Training loss:0.634544\n",
            "epoch [20/20], Training loss:0.632973\n",
            "Accuracy:  0.6559343434343434 \n",
            "\n",
            "Lambda: 9.0 \n",
            "\n",
            "epoch [5/20], Training loss:0.656169\n",
            "epoch [10/20], Training loss:0.637820\n",
            "epoch [15/20], Training loss:0.633954\n",
            "epoch [20/20], Training loss:0.632798\n",
            "Accuracy:  0.6647727272727273 \n",
            "\n",
            "Lambda: 10.0 \n",
            "\n",
            "epoch [5/20], Training loss:0.658727\n",
            "epoch [10/20], Training loss:0.640346\n",
            "epoch [15/20], Training loss:0.635822\n",
            "epoch [20/20], Training loss:0.634340\n",
            "Accuracy:  0.6609848484848485 \n",
            "\n",
            "Lambda: 11.0 \n",
            "\n",
            "epoch [5/20], Training loss:0.666054\n",
            "epoch [10/20], Training loss:0.645086\n",
            "epoch [15/20], Training loss:0.639331\n",
            "epoch [20/20], Training loss:0.637216\n",
            "Accuracy:  0.6590909090909091 \n",
            "\n",
            "Lambda: 12.0 \n",
            "\n",
            "epoch [5/20], Training loss:0.659014\n",
            "epoch [10/20], Training loss:0.639815\n",
            "epoch [15/20], Training loss:0.636759\n",
            "epoch [20/20], Training loss:0.636028\n",
            "Accuracy:  0.6654040404040404 \n",
            "\n",
            "Lambda: 13.0 \n",
            "\n",
            "epoch [5/20], Training loss:0.671623\n",
            "epoch [10/20], Training loss:0.645790\n",
            "epoch [15/20], Training loss:0.639544\n",
            "epoch [20/20], Training loss:0.637693\n",
            "Accuracy:  0.663510101010101 \n",
            "\n",
            "Lambda: 14.0 \n",
            "\n",
            "epoch [5/20], Training loss:0.655282\n",
            "epoch [10/20], Training loss:0.640909\n",
            "epoch [15/20], Training loss:0.638609\n",
            "epoch [20/20], Training loss:0.637991\n",
            "Accuracy:  0.6590909090909091 \n",
            "\n",
            "Lambda: 15.0 \n",
            "\n",
            "epoch [5/20], Training loss:0.662236\n",
            "epoch [10/20], Training loss:0.648109\n",
            "epoch [15/20], Training loss:0.643376\n",
            "epoch [20/20], Training loss:0.641271\n",
            "Accuracy:  0.6616161616161617 \n",
            "\n",
            "Lambda: 16.0 \n",
            "\n",
            "epoch [5/20], Training loss:0.682554\n",
            "epoch [10/20], Training loss:0.649992\n",
            "epoch [15/20], Training loss:0.643218\n",
            "epoch [20/20], Training loss:0.641147\n",
            "Accuracy:  0.6616161616161617 \n",
            "\n",
            "Lambda: 17.0 \n",
            "\n",
            "epoch [5/20], Training loss:0.670217\n",
            "epoch [10/20], Training loss:0.650010\n",
            "epoch [15/20], Training loss:0.644492\n",
            "epoch [20/20], Training loss:0.642485\n",
            "Accuracy:  0.6628787878787878 \n",
            "\n",
            "Lambda: 18.0 \n",
            "\n",
            "epoch [5/20], Training loss:0.673325\n",
            "epoch [10/20], Training loss:0.646805\n",
            "epoch [15/20], Training loss:0.642509\n",
            "epoch [20/20], Training loss:0.641614\n",
            "Accuracy:  0.6590909090909091 \n",
            "\n",
            "Lambda: 19.0 \n",
            "\n",
            "epoch [5/20], Training loss:0.662408\n",
            "epoch [10/20], Training loss:0.648285\n",
            "epoch [15/20], Training loss:0.644337\n",
            "epoch [20/20], Training loss:0.643014\n",
            "Accuracy:  0.6628787878787878 \n",
            "\n",
            "Lambda: 20.0 \n",
            "\n",
            "epoch [5/20], Training loss:0.659296\n",
            "epoch [10/20], Training loss:0.646568\n",
            "epoch [15/20], Training loss:0.644279\n",
            "epoch [20/20], Training loss:0.643543\n",
            "Accuracy:  0.6628787878787878 \n",
            "\n",
            "Lambda: 21.0 \n",
            "\n",
            "epoch [5/20], Training loss:0.657817\n",
            "epoch [10/20], Training loss:0.646713\n",
            "epoch [15/20], Training loss:0.644611\n",
            "epoch [20/20], Training loss:0.644079\n",
            "Accuracy:  0.6628787878787878 \n",
            "\n",
            "Lambda: 22.0 \n",
            "\n",
            "epoch [5/20], Training loss:0.665224\n",
            "epoch [10/20], Training loss:0.648632\n",
            "epoch [15/20], Training loss:0.645525\n",
            "epoch [20/20], Training loss:0.644796\n",
            "Accuracy:  0.663510101010101 \n",
            "\n",
            "Lambda: 23.0 \n",
            "\n",
            "epoch [5/20], Training loss:0.674651\n",
            "epoch [10/20], Training loss:0.654629\n",
            "epoch [15/20], Training loss:0.649024\n",
            "epoch [20/20], Training loss:0.646918\n",
            "Accuracy:  0.663510101010101 \n",
            "\n",
            "Lambda: 24.0 \n",
            "\n",
            "epoch [5/20], Training loss:0.675796\n",
            "epoch [10/20], Training loss:0.653680\n",
            "epoch [15/20], Training loss:0.648523\n",
            "epoch [20/20], Training loss:0.646920\n",
            "Accuracy:  0.6628787878787878 \n",
            "\n",
            "Lambda: 25.0 \n",
            "\n",
            "epoch [5/20], Training loss:0.700471\n",
            "epoch [10/20], Training loss:0.659601\n",
            "epoch [15/20], Training loss:0.650606\n",
            "epoch [20/20], Training loss:0.648079\n",
            "Accuracy:  0.663510101010101 \n",
            "\n",
            "Lambda: 26.0 \n",
            "\n",
            "epoch [5/20], Training loss:0.674916\n",
            "epoch [10/20], Training loss:0.653835\n",
            "epoch [15/20], Training loss:0.649393\n",
            "epoch [20/20], Training loss:0.648102\n",
            "Accuracy:  0.6628787878787878 \n",
            "\n",
            "Lambda: 27.0 \n",
            "\n",
            "epoch [5/20], Training loss:0.671401\n",
            "epoch [10/20], Training loss:0.654171\n",
            "epoch [15/20], Training loss:0.650278\n",
            "epoch [20/20], Training loss:0.648915\n",
            "Accuracy:  0.6628787878787878 \n",
            "\n",
            "Lambda: 28.0 \n",
            "\n",
            "epoch [5/20], Training loss:0.664515\n",
            "epoch [10/20], Training loss:0.652233\n",
            "epoch [15/20], Training loss:0.649874\n",
            "epoch [20/20], Training loss:0.649051\n",
            "Accuracy:  0.6628787878787878 \n",
            "\n",
            "Lambda: 29.0 \n",
            "\n",
            "epoch [5/20], Training loss:0.675087\n",
            "epoch [10/20], Training loss:0.656235\n",
            "epoch [15/20], Training loss:0.651473\n",
            "epoch [20/20], Training loss:0.649981\n",
            "Accuracy:  0.663510101010101 \n",
            "\n",
            "Lambda: 30.0 \n",
            "\n",
            "epoch [5/20], Training loss:0.666813\n",
            "epoch [10/20], Training loss:0.653076\n",
            "epoch [15/20], Training loss:0.650605\n",
            "epoch [20/20], Training loss:0.649997\n",
            "Accuracy:  0.6628787878787878 \n",
            "\n",
            "Lambda: 31.0 \n",
            "\n",
            "epoch [5/20], Training loss:0.673578\n",
            "epoch [10/20], Training loss:0.653506\n",
            "epoch [15/20], Training loss:0.650873\n",
            "epoch [20/20], Training loss:0.650434\n",
            "Accuracy:  0.663510101010101 \n",
            "\n",
            "Lambda: 32.0 \n",
            "\n",
            "epoch [5/20], Training loss:0.680762\n",
            "epoch [10/20], Training loss:0.655096\n",
            "epoch [15/20], Training loss:0.651768\n",
            "epoch [20/20], Training loss:0.651125\n",
            "Accuracy:  0.6609848484848485 \n",
            "\n",
            "Lambda: 33.0 \n",
            "\n",
            "epoch [5/20], Training loss:0.678848\n",
            "epoch [10/20], Training loss:0.655325\n",
            "epoch [15/20], Training loss:0.652173\n",
            "epoch [20/20], Training loss:0.651583\n",
            "Accuracy:  0.663510101010101 \n",
            "\n",
            "Lambda: 34.0 \n",
            "\n",
            "epoch [5/20], Training loss:0.675775\n",
            "epoch [10/20], Training loss:0.656694\n",
            "epoch [15/20], Training loss:0.653208\n",
            "epoch [20/20], Training loss:0.652331\n",
            "Accuracy:  0.663510101010101 \n",
            "\n",
            "Lambda: 35.0 \n",
            "\n",
            "epoch [5/20], Training loss:0.684418\n",
            "epoch [10/20], Training loss:0.658101\n",
            "epoch [15/20], Training loss:0.653806\n",
            "epoch [20/20], Training loss:0.652813\n",
            "Accuracy:  0.663510101010101 \n",
            "\n",
            "Lambda: 36.0 \n",
            "\n",
            "epoch [5/20], Training loss:0.672958\n",
            "epoch [10/20], Training loss:0.657212\n",
            "epoch [15/20], Training loss:0.654086\n",
            "epoch [20/20], Training loss:0.653266\n",
            "Accuracy:  0.663510101010101 \n",
            "\n",
            "Lambda: 37.0 \n",
            "\n",
            "epoch [5/20], Training loss:0.682284\n",
            "epoch [10/20], Training loss:0.659152\n",
            "epoch [15/20], Training loss:0.654887\n",
            "epoch [20/20], Training loss:0.653850\n",
            "Accuracy:  0.663510101010101 \n",
            "\n",
            "Lambda: 38.0 \n",
            "\n",
            "epoch [5/20], Training loss:0.675075\n",
            "epoch [10/20], Training loss:0.657074\n",
            "epoch [15/20], Training loss:0.654475\n",
            "epoch [20/20], Training loss:0.654002\n",
            "Accuracy:  0.663510101010101 \n",
            "\n",
            "Lambda: 39.0 \n",
            "\n",
            "epoch [5/20], Training loss:0.669482\n",
            "epoch [10/20], Training loss:0.657710\n",
            "epoch [15/20], Training loss:0.655171\n",
            "epoch [20/20], Training loss:0.654577\n",
            "Accuracy:  0.663510101010101 \n",
            "\n",
            "Lambda: 40.0 \n",
            "\n",
            "epoch [5/20], Training loss:0.675972\n",
            "epoch [10/20], Training loss:0.659544\n",
            "epoch [15/20], Training loss:0.656091\n",
            "epoch [20/20], Training loss:0.655172\n",
            "Accuracy:  0.663510101010101 \n",
            "\n",
            "Lambda: 41.0 \n",
            "\n",
            "epoch [5/20], Training loss:0.660241\n",
            "epoch [10/20], Training loss:0.655992\n",
            "epoch [15/20], Training loss:0.655408\n",
            "epoch [20/20], Training loss:0.655284\n",
            "Accuracy:  0.663510101010101 \n",
            "\n",
            "Lambda: 42.0 \n",
            "\n",
            "epoch [5/20], Training loss:0.670771\n",
            "epoch [10/20], Training loss:0.657657\n",
            "epoch [15/20], Training loss:0.656011\n",
            "epoch [20/20], Training loss:0.655726\n",
            "Accuracy:  0.663510101010101 \n",
            "\n",
            "Lambda: 43.0 \n",
            "\n",
            "epoch [5/20], Training loss:0.672408\n",
            "epoch [10/20], Training loss:0.657954\n",
            "epoch [15/20], Training loss:0.656400\n",
            "epoch [20/20], Training loss:0.656143\n",
            "Accuracy:  0.663510101010101 \n",
            "\n",
            "Lambda: 44.0 \n",
            "\n",
            "epoch [5/20], Training loss:0.679506\n",
            "epoch [10/20], Training loss:0.661388\n",
            "epoch [15/20], Training loss:0.657758\n",
            "epoch [20/20], Training loss:0.656814\n",
            "Accuracy:  0.663510101010101 \n",
            "\n",
            "Lambda: 45.0 \n",
            "\n",
            "epoch [5/20], Training loss:0.682608\n",
            "epoch [10/20], Training loss:0.661186\n",
            "epoch [15/20], Training loss:0.657851\n",
            "epoch [20/20], Training loss:0.657126\n",
            "Accuracy:  0.663510101010101 \n",
            "\n",
            "Lambda: 46.0 \n",
            "\n",
            "epoch [5/20], Training loss:0.675489\n",
            "epoch [10/20], Training loss:0.659826\n",
            "epoch [15/20], Training loss:0.657768\n",
            "epoch [20/20], Training loss:0.657424\n",
            "Accuracy:  0.663510101010101 \n",
            "\n",
            "Lambda: 47.0 \n",
            "\n",
            "epoch [5/20], Training loss:0.667025\n",
            "epoch [10/20], Training loss:0.658420\n",
            "epoch [15/20], Training loss:0.657752\n",
            "epoch [20/20], Training loss:0.657669\n",
            "Accuracy:  0.663510101010101 \n",
            "\n",
            "Lambda: 48.0 \n",
            "\n",
            "epoch [5/20], Training loss:0.683760\n",
            "epoch [10/20], Training loss:0.663310\n",
            "epoch [15/20], Training loss:0.659246\n",
            "epoch [20/20], Training loss:0.658305\n",
            "Accuracy:  0.663510101010101 \n",
            "\n",
            "Lambda: 49.0 \n",
            "\n",
            "epoch [5/20], Training loss:0.678268\n",
            "epoch [10/20], Training loss:0.660740\n",
            "epoch [15/20], Training loss:0.658767\n",
            "epoch [20/20], Training loss:0.658469\n",
            "Accuracy:  0.663510101010101 \n",
            "\n",
            "Lambda: 50.0 \n",
            "\n",
            "epoch [5/20], Training loss:0.672431\n",
            "epoch [10/20], Training loss:0.659977\n",
            "epoch [15/20], Training loss:0.658910\n",
            "epoch [20/20], Training loss:0.658787\n",
            "Accuracy:  0.663510101010101 \n",
            "\n",
            "Lambda: 51.0 \n",
            "\n",
            "epoch [5/20], Training loss:0.684713\n",
            "epoch [10/20], Training loss:0.662450\n",
            "epoch [15/20], Training loss:0.659669\n",
            "epoch [20/20], Training loss:0.659237\n",
            "Accuracy:  0.663510101010101 \n",
            "\n",
            "Lambda: 52.0 \n",
            "\n",
            "epoch [5/20], Training loss:0.669300\n",
            "epoch [10/20], Training loss:0.660545\n",
            "epoch [15/20], Training loss:0.659602\n",
            "epoch [20/20], Training loss:0.659468\n",
            "Accuracy:  0.663510101010101 \n",
            "\n",
            "Lambda: 53.0 \n",
            "\n",
            "epoch [5/20], Training loss:0.678405\n",
            "epoch [10/20], Training loss:0.661200\n",
            "epoch [15/20], Training loss:0.659924\n",
            "epoch [20/20], Training loss:0.659792\n",
            "Accuracy:  0.663510101010101 \n",
            "\n",
            "Lambda: 54.0 \n",
            "\n",
            "epoch [5/20], Training loss:0.679817\n",
            "epoch [10/20], Training loss:0.661843\n",
            "epoch [15/20], Training loss:0.660291\n",
            "epoch [20/20], Training loss:0.660145\n",
            "Accuracy:  0.663510101010101 \n",
            "\n",
            "Lambda: 55.0 \n",
            "\n",
            "epoch [5/20], Training loss:0.672675\n",
            "epoch [10/20], Training loss:0.662123\n",
            "epoch [15/20], Training loss:0.660704\n",
            "epoch [20/20], Training loss:0.660473\n",
            "Accuracy:  0.663510101010101 \n",
            "\n",
            "Lambda: 56.0 \n",
            "\n",
            "epoch [5/20], Training loss:0.684523\n",
            "epoch [10/20], Training loss:0.664544\n",
            "epoch [15/20], Training loss:0.661426\n",
            "epoch [20/20], Training loss:0.660878\n",
            "Accuracy:  0.663510101010101 \n",
            "\n",
            "Lambda: 57.0 \n",
            "\n",
            "epoch [5/20], Training loss:0.671198\n",
            "epoch [10/20], Training loss:0.662306\n",
            "epoch [15/20], Training loss:0.661254\n",
            "epoch [20/20], Training loss:0.661086\n",
            "Accuracy:  0.663510101010101 \n",
            "\n",
            "Lambda: 58.0 \n",
            "\n",
            "epoch [5/20], Training loss:0.678169\n",
            "epoch [10/20], Training loss:0.663359\n",
            "epoch [15/20], Training loss:0.661628\n",
            "epoch [20/20], Training loss:0.661398\n",
            "Accuracy:  0.663510101010101 \n",
            "\n",
            "Lambda: 59.0 \n",
            "\n",
            "epoch [5/20], Training loss:0.671308\n",
            "epoch [10/20], Training loss:0.662449\n",
            "epoch [15/20], Training loss:0.661733\n",
            "epoch [20/20], Training loss:0.661663\n",
            "Accuracy:  0.663510101010101 \n",
            "\n",
            "Lambda: 60.0 \n",
            "\n",
            "epoch [5/20], Training loss:0.678677\n",
            "epoch [10/20], Training loss:0.663515\n",
            "epoch [15/20], Training loss:0.662153\n",
            "epoch [20/20], Training loss:0.662000\n",
            "Accuracy:  0.663510101010101 \n",
            "\n",
            "Lambda: 61.0 \n",
            "\n",
            "epoch [5/20], Training loss:0.670560\n",
            "epoch [10/20], Training loss:0.663380\n",
            "epoch [15/20], Training loss:0.662432\n",
            "epoch [20/20], Training loss:0.662288\n",
            "Accuracy:  0.663510101010101 \n",
            "\n",
            "Lambda: 62.0 \n",
            "\n",
            "epoch [5/20], Training loss:0.673624\n",
            "epoch [10/20], Training loss:0.663153\n",
            "epoch [15/20], Training loss:0.662564\n",
            "epoch [20/20], Training loss:0.662512\n",
            "Accuracy:  0.663510101010101 \n",
            "\n",
            "Lambda: 63.0 \n",
            "\n",
            "epoch [5/20], Training loss:0.672623\n",
            "epoch [10/20], Training loss:0.663881\n",
            "epoch [15/20], Training loss:0.662937\n",
            "epoch [20/20], Training loss:0.662801\n",
            "Accuracy:  0.663510101010101 \n",
            "\n",
            "Lambda: 64.0 \n",
            "\n",
            "epoch [5/20], Training loss:0.677819\n",
            "epoch [10/20], Training loss:0.664441\n",
            "epoch [15/20], Training loss:0.663228\n",
            "epoch [20/20], Training loss:0.663095\n",
            "Accuracy:  0.663510101010101 \n",
            "\n",
            "Lambda: 65.0 \n",
            "\n",
            "epoch [5/20], Training loss:0.685691\n",
            "epoch [10/20], Training loss:0.665622\n",
            "epoch [15/20], Training loss:0.663613\n",
            "epoch [20/20], Training loss:0.663349\n",
            "Accuracy:  0.663510101010101 \n",
            "\n",
            "Lambda: 66.0 \n",
            "\n",
            "epoch [5/20], Training loss:0.673788\n",
            "epoch [10/20], Training loss:0.664799\n",
            "epoch [15/20], Training loss:0.663743\n",
            "epoch [20/20], Training loss:0.663600\n",
            "Accuracy:  0.663510101010101 \n",
            "\n",
            "Lambda: 67.0 \n",
            "\n",
            "epoch [5/20], Training loss:0.679332\n",
            "epoch [10/20], Training loss:0.665240\n",
            "epoch [15/20], Training loss:0.664007\n",
            "epoch [20/20], Training loss:0.663860\n",
            "Accuracy:  0.663510101010101 \n",
            "\n",
            "Lambda: 68.0 \n",
            "\n",
            "epoch [5/20], Training loss:0.679253\n",
            "epoch [10/20], Training loss:0.665076\n",
            "epoch [15/20], Training loss:0.664175\n",
            "epoch [20/20], Training loss:0.664105\n",
            "Accuracy:  0.663510101010101 \n",
            "\n",
            "Lambda: 69.0 \n",
            "\n",
            "epoch [5/20], Training loss:0.677669\n",
            "epoch [10/20], Training loss:0.665471\n",
            "epoch [15/20], Training loss:0.664457\n",
            "epoch [20/20], Training loss:0.664344\n",
            "Accuracy:  0.663510101010101 \n",
            "\n",
            "Lambda: 70.0 \n",
            "\n",
            "epoch [5/20], Training loss:0.674546\n",
            "epoch [10/20], Training loss:0.664826\n",
            "epoch [15/20], Training loss:0.664574\n",
            "epoch [20/20], Training loss:0.664578\n",
            "Accuracy:  0.663510101010101 \n",
            "\n",
            "Lambda: 71.0 \n",
            "\n",
            "epoch [5/20], Training loss:0.674793\n",
            "epoch [10/20], Training loss:0.665432\n",
            "epoch [15/20], Training loss:0.664866\n",
            "epoch [20/20], Training loss:0.664834\n",
            "Accuracy:  0.663510101010101 \n",
            "\n",
            "Lambda: 72.0 \n",
            "\n",
            "epoch [5/20], Training loss:0.670910\n",
            "epoch [10/20], Training loss:0.665367\n",
            "epoch [15/20], Training loss:0.665078\n",
            "epoch [20/20], Training loss:0.665063\n",
            "Accuracy:  0.663510101010101 \n",
            "\n",
            "Lambda: 73.0 \n",
            "\n",
            "epoch [5/20], Training loss:0.683665\n",
            "epoch [10/20], Training loss:0.667095\n",
            "epoch [15/20], Training loss:0.665478\n",
            "epoch [20/20], Training loss:0.665329\n",
            "Accuracy:  0.663510101010101 \n",
            "\n",
            "Lambda: 74.0 \n",
            "\n",
            "epoch [5/20], Training loss:0.678766\n",
            "epoch [10/20], Training loss:0.666514\n",
            "epoch [15/20], Training loss:0.665605\n",
            "epoch [20/20], Training loss:0.665513\n",
            "Accuracy:  0.663510101010101 \n",
            "\n",
            "Lambda: 75.0 \n",
            "\n",
            "epoch [5/20], Training loss:0.672967\n",
            "epoch [10/20], Training loss:0.666174\n",
            "epoch [15/20], Training loss:0.665758\n",
            "epoch [20/20], Training loss:0.665739\n",
            "Accuracy:  0.663510101010101 \n",
            "\n",
            "Lambda: 76.0 \n",
            "\n",
            "epoch [5/20], Training loss:0.675831\n",
            "epoch [10/20], Training loss:0.666522\n",
            "epoch [15/20], Training loss:0.666014\n",
            "epoch [20/20], Training loss:0.665966\n",
            "Accuracy:  0.663510101010101 \n",
            "\n",
            "Lambda: 77.0 \n",
            "\n",
            "epoch [5/20], Training loss:0.674938\n",
            "epoch [10/20], Training loss:0.666628\n",
            "epoch [15/20], Training loss:0.666199\n",
            "epoch [20/20], Training loss:0.666178\n",
            "Accuracy:  0.663510101010101 \n",
            "\n",
            "Lambda: 78.0 \n",
            "\n",
            "epoch [5/20], Training loss:0.677206\n",
            "epoch [10/20], Training loss:0.667171\n",
            "epoch [15/20], Training loss:0.666455\n",
            "epoch [20/20], Training loss:0.666390\n",
            "Accuracy:  0.663510101010101 \n",
            "\n",
            "Lambda: 79.0 \n",
            "\n",
            "epoch [5/20], Training loss:0.678860\n",
            "epoch [10/20], Training loss:0.667252\n",
            "epoch [15/20], Training loss:0.666655\n",
            "epoch [20/20], Training loss:0.666598\n",
            "Accuracy:  0.663510101010101 \n",
            "\n",
            "Lambda: 80.0 \n",
            "\n",
            "epoch [5/20], Training loss:0.682158\n",
            "epoch [10/20], Training loss:0.667899\n",
            "epoch [15/20], Training loss:0.666888\n",
            "epoch [20/20], Training loss:0.666811\n",
            "Accuracy:  0.663510101010101 \n",
            "\n",
            "Lambda: 81.0 \n",
            "\n",
            "epoch [5/20], Training loss:0.678154\n",
            "epoch [10/20], Training loss:0.667558\n",
            "epoch [15/20], Training loss:0.667061\n",
            "epoch [20/20], Training loss:0.667010\n",
            "Accuracy:  0.663510101010101 \n",
            "\n",
            "Lambda: 82.0 \n",
            "\n",
            "epoch [5/20], Training loss:0.686410\n",
            "epoch [10/20], Training loss:0.668148\n",
            "epoch [15/20], Training loss:0.667247\n",
            "epoch [20/20], Training loss:0.667200\n",
            "Accuracy:  0.6622474747474747 \n",
            "\n",
            "Lambda: 83.0 \n",
            "\n",
            "epoch [5/20], Training loss:0.676588\n",
            "epoch [10/20], Training loss:0.667857\n",
            "epoch [15/20], Training loss:0.667419\n",
            "epoch [20/20], Training loss:0.667398\n",
            "Accuracy:  0.6622474747474747 \n",
            "\n",
            "Lambda: 84.0 \n",
            "\n",
            "epoch [5/20], Training loss:0.675610\n",
            "epoch [10/20], Training loss:0.668082\n",
            "epoch [15/20], Training loss:0.667620\n",
            "epoch [20/20], Training loss:0.667613\n",
            "Accuracy:  0.663510101010101 \n",
            "\n",
            "Lambda: 85.0 \n",
            "\n",
            "epoch [5/20], Training loss:0.679159\n",
            "epoch [10/20], Training loss:0.668236\n",
            "epoch [15/20], Training loss:0.667790\n",
            "epoch [20/20], Training loss:0.667766\n",
            "Accuracy:  0.6622474747474747 \n",
            "\n",
            "Lambda: 86.0 \n",
            "\n",
            "epoch [5/20], Training loss:0.678463\n",
            "epoch [10/20], Training loss:0.668353\n",
            "epoch [15/20], Training loss:0.667991\n",
            "epoch [20/20], Training loss:0.667993\n",
            "Accuracy:  0.6622474747474747 \n",
            "\n",
            "Lambda: 87.0 \n",
            "\n",
            "epoch [5/20], Training loss:0.681793\n",
            "epoch [10/20], Training loss:0.668805\n",
            "epoch [15/20], Training loss:0.668182\n",
            "epoch [20/20], Training loss:0.668138\n",
            "Accuracy:  0.663510101010101 \n",
            "\n",
            "Lambda: 88.0 \n",
            "\n",
            "epoch [5/20], Training loss:0.677053\n",
            "epoch [10/20], Training loss:0.668782\n",
            "epoch [15/20], Training loss:0.668332\n",
            "epoch [20/20], Training loss:0.668350\n",
            "Accuracy:  0.6622474747474747 \n",
            "\n",
            "Lambda: 89.0 \n",
            "\n",
            "epoch [5/20], Training loss:0.678885\n",
            "epoch [10/20], Training loss:0.668992\n",
            "epoch [15/20], Training loss:0.668540\n",
            "epoch [20/20], Training loss:0.668509\n",
            "Accuracy:  0.6622474747474747 \n",
            "\n",
            "Lambda: 90.0 \n",
            "\n",
            "epoch [5/20], Training loss:0.673073\n",
            "epoch [10/20], Training loss:0.668835\n",
            "epoch [15/20], Training loss:0.668681\n",
            "epoch [20/20], Training loss:0.668694\n",
            "Accuracy:  0.6622474747474747 \n",
            "\n",
            "Lambda: 91.0 \n",
            "\n",
            "epoch [5/20], Training loss:0.682321\n",
            "epoch [10/20], Training loss:0.669638\n",
            "epoch [15/20], Training loss:0.668904\n",
            "epoch [20/20], Training loss:0.668853\n",
            "Accuracy:  0.6622474747474747 \n",
            "\n",
            "Lambda: 92.0 \n",
            "\n",
            "epoch [5/20], Training loss:0.675342\n",
            "epoch [10/20], Training loss:0.669302\n",
            "epoch [15/20], Training loss:0.669045\n",
            "epoch [20/20], Training loss:0.669051\n",
            "Accuracy:  0.6622474747474747 \n",
            "\n",
            "Lambda: 93.0 \n",
            "\n",
            "epoch [5/20], Training loss:0.675756\n",
            "epoch [10/20], Training loss:0.669392\n",
            "epoch [15/20], Training loss:0.669223\n",
            "epoch [20/20], Training loss:0.669224\n",
            "Accuracy:  0.663510101010101 \n",
            "\n",
            "Lambda: 94.0 \n",
            "\n",
            "epoch [5/20], Training loss:0.674561\n",
            "epoch [10/20], Training loss:0.669545\n",
            "epoch [15/20], Training loss:0.669380\n",
            "epoch [20/20], Training loss:0.669359\n",
            "Accuracy:  0.6622474747474747 \n",
            "\n",
            "Lambda: 95.0 \n",
            "\n",
            "epoch [5/20], Training loss:0.679455\n",
            "epoch [10/20], Training loss:0.669992\n",
            "epoch [15/20], Training loss:0.669562\n",
            "epoch [20/20], Training loss:0.669534\n",
            "Accuracy:  0.6622474747474747 \n",
            "\n",
            "Lambda: 96.0 \n",
            "\n",
            "epoch [5/20], Training loss:0.677735\n",
            "epoch [10/20], Training loss:0.670026\n",
            "epoch [15/20], Training loss:0.669699\n",
            "epoch [20/20], Training loss:0.669705\n",
            "Accuracy:  0.6622474747474747 \n",
            "\n",
            "Lambda: 97.0 \n",
            "\n",
            "epoch [5/20], Training loss:0.677456\n",
            "epoch [10/20], Training loss:0.670093\n",
            "epoch [15/20], Training loss:0.669881\n",
            "epoch [20/20], Training loss:0.669872\n",
            "Accuracy:  0.6622474747474747 \n",
            "\n",
            "Lambda: 98.0 \n",
            "\n",
            "epoch [5/20], Training loss:0.674310\n",
            "epoch [10/20], Training loss:0.670139\n",
            "epoch [15/20], Training loss:0.670015\n",
            "epoch [20/20], Training loss:0.669994\n",
            "Accuracy:  0.6622474747474747 \n",
            "\n",
            "Lambda: 99.0 \n",
            "\n",
            "epoch [5/20], Training loss:0.682601\n",
            "epoch [10/20], Training loss:0.670546\n",
            "epoch [15/20], Training loss:0.670181\n",
            "epoch [20/20], Training loss:0.670163\n",
            "Accuracy:  0.6622474747474747 \n",
            "\n",
            "Lambda: 100.0 \n",
            "\n",
            "epoch [5/20], Training loss:0.680286\n",
            "epoch [10/20], Training loss:0.670563\n",
            "epoch [15/20], Training loss:0.670318\n",
            "epoch [20/20], Training loss:0.670310\n",
            "Accuracy:  0.6622474747474747 \n",
            "\n"
          ],
          "name": "stdout"
        }
      ]
    },
    {
      "cell_type": "markdown",
      "metadata": {
        "id": "t4_-HPEhYS4d",
        "colab_type": "text"
      },
      "source": [
        "Plot accuracy with respect to $\\lambda$:"
      ]
    },
    {
      "cell_type": "code",
      "metadata": {
        "id": "me82_Bzl6kcW",
        "colab_type": "code",
        "outputId": "1da6499d-decf-440a-e7ce-c1553b0edcc4",
        "colab": {
          "base_uri": "https://localhost:8080/",
          "height": 312
        }
      },
      "source": [
        "plt.plot(lambdas, accuracies)\n",
        "plt.title('Accuracy of Logistic Regression on COMPAS dataset')\n",
        "plt.xlabel('Reg-lambda')\n",
        "plt.ylabel('Accuracy')\n",
        "plt.ylim((0.6,0.7))"
      ],
      "execution_count": 0,
      "outputs": [
        {
          "output_type": "execute_result",
          "data": {
            "text/plain": [
              "(0.6, 0.7)"
            ]
          },
          "metadata": {
            "tags": []
          },
          "execution_count": 97
        },
        {
          "output_type": "display_data",
          "data": {
            "image/png": "[encoded data removed]",
            "text/plain": [
              "<Figure size 432x288 with 1 Axes>"
            ]
          },
          "metadata": {
            "tags": []
          }
        }
      ]
    },
    {
      "cell_type": "markdown",
      "metadata": {
        "id": "rYl1dd70YaEg",
        "colab_type": "text"
      },
      "source": [
        "Plot TPR and NPR for each sensitive class with respect to $\\lambda$:\n",
        "\n",
        "\n"
      ]
    },
    {
      "cell_type": "code",
      "metadata": {
        "id": "8vQ2rX9zii0d",
        "colab_type": "code",
        "outputId": "9f4131a0-2cd4-4852-89ae-01a1db361ec4",
        "colab": {
          "base_uri": "https://localhost:8080/",
          "height": 387
        }
      },
      "source": [
        "TPR_priv = []\n",
        "TPR_non_priv = []\n",
        "TNR_priv = []\n",
        "TNR_non_priv = []\n",
        "for l in metrics:\n",
        "    TPR_priv.append(metrics[l]['privilaged']['TPR'])\n",
        "    TPR_non_priv.append(metrics[l]['unprivilaged']['TPR'])\n",
        "    TNR_priv.append(metrics[l]['privilaged']['TNR'])\n",
        "    TNR_non_priv.append(metrics[l]['unprivilaged']['TNR'])\n",
        "\n",
        "fig, axs = plt.subplots(1, 2, figsize=(10,5))\n",
        "fig.suptitle('Investigating Equalized Odds')\n",
        "axs[0].plot(lambdas, TPR_non_priv)\n",
        "axs[0].plot(lambdas, TPR_priv)\n",
        "axs[0].set_title('TPR')\n",
        "axs[0].set(xlabel='Reg-lambda', ylabel='TPR')\n",
        "axs[0].legend(['Not Caucasian', 'Caucasian'])\n",
        "axs[0].set(ylim=(0.3,1))\n",
        "\n",
        "axs[1].plot(lambdas, TNR_non_priv)\n",
        "axs[1].plot(lambdas, TNR_priv)\n",
        "axs[1].set_title('TNR')\n",
        "axs[1].set(xlabel='Reg-lambda', ylabel='TNR')\n",
        "axs[1].legend(['Not Caucasian', 'Caucasian'])\n",
        "axs[1].set(ylim=(0.2,0.9))"
      ],
      "execution_count": 0,
      "outputs": [
        {
          "output_type": "execute_result",
          "data": {
            "text/plain": [
              "[(0.2, 0.9)]"
            ]
          },
          "metadata": {
            "tags": []
          },
          "execution_count": 115
        },
        {
          "output_type": "display_data",
          "data": {
            "image/png": "[encoded data removed]",
            "text/plain": [
              "<Figure size 720x360 with 2 Axes>"
            ]
          },
          "metadata": {
            "tags": []
          }
        }
      ]
    },
    {
      "cell_type": "markdown",
      "metadata": {
        "id": "UPgueCa_Yk66",
        "colab_type": "text"
      },
      "source": [
        "Plot positive and negative predictive parity for each sensitive class with respect to $\\lambda$:\n"
      ]
    },
    {
      "cell_type": "code",
      "metadata": {
        "id": "Z1LXnWxM-igm",
        "colab_type": "code",
        "outputId": "956ca747-0516-403e-da36-d646e8b8a463",
        "colab": {
          "base_uri": "https://localhost:8080/",
          "height": 387
        }
      },
      "source": [
        "PPP_priv= []\n",
        "PPP_non_priv= []\n",
        "NPP_priv= []\n",
        "NPP_non_priv = []\n",
        "for l in metrics:\n",
        "    PPP_priv.append(metrics[l]['privilaged']['PPV'])\n",
        "    PPP_non_priv.append(metrics[l]['unprivilaged']['PPV'])\n",
        "    NPP_priv.append(metrics[l]['privilaged']['NPV'])\n",
        "    NPP_non_priv.append(metrics[l]['unprivilaged']['NPV'])\n",
        "\n",
        "fig, axs = plt.subplots(1, 2, figsize=(10,5))\n",
        "fig.suptitle('Investigating Predictive Parity')\n",
        "axs[0].plot(lambdas, PPP_non_priv)\n",
        "axs[0].plot(lambdas, PPP_priv)\n",
        "axs[0].set_title('PPP')\n",
        "axs[0].set(xlabel='Reg-lambda', ylabel='PPP')\n",
        "axs[0].legend(['Not Caucasian', 'Caucasian'])\n",
        "axs[0].set(ylim=(0.4,0.9))\n",
        "\n",
        "axs[1].plot(lambdas, NPP_non_priv)\n",
        "axs[1].plot(lambdas, NPP_priv)\n",
        "axs[1].set_title('NPP')\n",
        "axs[1].set(xlabel='Reg-lambda', ylabel='NPP')\n",
        "axs[1].legend(['Not Caucasian', 'Caucasian'])\n",
        "axs[1].set(ylim=(0,1))"
      ],
      "execution_count": 0,
      "outputs": [
        {
          "output_type": "execute_result",
          "data": {
            "text/plain": [
              "[(0.0, 1.0)]"
            ]
          },
          "metadata": {
            "tags": []
          },
          "execution_count": 116
        },
        {
          "output_type": "display_data",
          "data": {
            "image/png": "[encoded data removed]",
            "text/plain": [
              "<Figure size 720x360 with 2 Axes>"
            ]
          },
          "metadata": {
            "tags": []
          }
        }
      ]
    },
    {
      "cell_type": "markdown",
      "metadata": {
        "id": "RpCFA044Yn8R",
        "colab_type": "text"
      },
      "source": [
        "Plot PR for each sensitive class with respect to $\\lambda$:\n"
      ]
    },
    {
      "cell_type": "code",
      "metadata": {
        "id": "xAz_a1Rd926z",
        "colab_type": "code",
        "outputId": "a009c670-11d7-429e-eaac-5f3b7fbe811f",
        "colab": {
          "base_uri": "https://localhost:8080/",
          "height": 367
        }
      },
      "source": [
        "PR_priv = []\n",
        "PR_non_priv = []\n",
        "ACC  = []\n",
        "for l in metrics:\n",
        "    PR_priv.append(metrics[l]['privilaged']['PR'])\n",
        "    PR_non_priv.append(metrics[l]['unprivilaged']['PR'])\n",
        "    ACC.append(metrics[l]['accuracy'])\n",
        "\n",
        "\n",
        "fig, axs = plt.subplots(1, 2, figsize=(10,5))\n",
        "axs[1].set_title('Investigating Demographic Parity')\n",
        "axs[1].plot(lambdas, PR_non_priv)\n",
        "axs[1].plot(lambdas, PR_priv)\n",
        "axs[1].set(xlabel='Reg-lambda', ylabel='Positive Rate')\n",
        "axs[1].legend(['Non-Caucasian', 'Caucasian'])\n",
        "axs[1].set(ylim=(0,1))\n",
        "\n",
        "axs[0].plot(lambdas, ACC)\n",
        "axs[0].set_title('Accuracy')\n",
        "axs[0].set(xlabel='Reg-lambda', ylabel = 'Accuracy')\n",
        "axs[0].set(ylim=(0.6,0.7))"
      ],
      "execution_count": 0,
      "outputs": [
        {
          "output_type": "execute_result",
          "data": {
            "text/plain": [
              "[(0.6, 0.7)]"
            ]
          },
          "metadata": {
            "tags": []
          },
          "execution_count": 130
        },
        {
          "output_type": "display_data",
          "data": {
            "image/png": "[encoded data removed]",
            "text/plain": [
              "<Figure size 720x360 with 2 Axes>"
            ]
          },
          "metadata": {
            "tags": []
          }
        }
      ]
    },
    {
      "cell_type": "markdown",
      "metadata": {
        "id": "jKxIeRDXLhOg",
        "colab_type": "text"
      },
      "source": [
        "### Pre-processing by Reweighing:"
      ]
    },
    {
      "cell_type": "code",
      "metadata": {
        "id": "mRXmr4BxLglO",
        "colab_type": "code",
        "colab": {}
      },
      "source": [
        "RW = Reweighing(unprivileged_groups=unprivileged_groups, \n",
        "                privileged_groups=privileged_groups)\n",
        "\n",
        "train_rw = RW.fit_transform(train)"
      ],
      "execution_count": 0,
      "outputs": []
    },
    {
      "cell_type": "code",
      "metadata": {
        "id": "EJ9dDvYvZmPT",
        "colab_type": "code",
        "colab": {}
      },
      "source": [
        "# Create a weights Tensor\n",
        "weights = torch.FloatTensor(train_rw.instance_weights)\n",
        "\n",
        "BATCH_SIZE = 32\n",
        "learning_rate = 0.0001\n",
        "\n",
        "# Data Tensor\n",
        "# We now include the weights so that data will be reweighed during training\n",
        "rw_train_dataset = Data.TensorDataset(torch.tensor(X_train).float(), \n",
        "                                      torch.Tensor(y_train).float(), weights)\n",
        "\n",
        "# Data Loader\n",
        "loader_train = Data.DataLoader(\n",
        "    dataset=rw_train_dataset, \n",
        "    batch_size=BATCH_SIZE, \n",
        "    shuffle=False, num_workers=num_workers)"
      ],
      "execution_count": 0,
      "outputs": []
    },
    {
      "cell_type": "markdown",
      "metadata": {
        "id": "1zW2fYq4ZtfW",
        "colab_type": "text"
      },
      "source": [
        "Train a LR-model for each regularization parameter $\\lambda$ and test on the test set:"
      ]
    },
    {
      "cell_type": "code",
      "metadata": {
        "id": "Zl_HWfDJC2Ps",
        "colab_type": "code",
        "colab": {}
      },
      "source": [
        "epochs = 20\n",
        "accuracies = []\n",
        "metrics_rw = {}\n",
        "lambdas = [0.0, 0.00001, 0.0001, 0.001, 0.01, 0.1, 0.2, 0.3, 0.5, 0.7, 0.9]\n",
        "lambdas = np.concatenate((np.array(lambdas), np.linspace(1, 100, num=100)))\n",
        "for reg_lambda in lambdas:\n",
        "    model = LogisticRegression_torch(X_train.shape[1], 1)\n",
        "    optimizer = torch.optim.SGD(model.parameters(), lr=0.0001)\n",
        "    for epoch in range(epochs):\n",
        "        train_loss = 0.0\n",
        "        for i, (x, y, w) in enumerate(loader_train):\n",
        "        # Converting inputs and labels to Variable\n",
        "\n",
        "            inputs = Variable(x.to(device))\n",
        "            labels = Variable(y.to(device))\n",
        "\n",
        "            # Clear gradient buffers because we don't want any gradient \n",
        "            # from previous epoch to carry forward, dont want to cummulate gradients\n",
        "            optimizer.zero_grad()\n",
        "\n",
        "            # get output from the model, given the inputs\n",
        "            outputs = model(inputs)\n",
        "\n",
        "            # Regularization\n",
        "            reg = 0\n",
        "            for param in model.parameters():\n",
        "                reg += 0.5 * (param ** 2).mean()\n",
        "                #reg += param.abs().sum()\n",
        "            # reg_lambda = 0\n",
        "            \n",
        "            # criterion\n",
        "            criterion = torch.nn.BCELoss(weight=w, reduction='sum')\n",
        "            # get loss for the predicted output\n",
        "            loss = criterion(outputs.reshape(outputs.shape[0]), labels) + \\\n",
        "                reg_lambda * reg\n",
        "            \n",
        "                \n",
        "            train_loss += loss.item()\n",
        "            \n",
        "            # get gradients w.r.t to parameters\n",
        "            loss.backward()\n",
        "            \n",
        "            # update parameters\n",
        "            optimizer.step()\n",
        "        \n",
        "        if (epoch + 1) % 5 == 0:\n",
        "            print('epoch [{}/{}], Training loss:{:.6f}'.format(\n",
        "                epoch + 1, \n",
        "                epochs, \n",
        "                train_loss / len(loader_train.dataset)))\n",
        "    with torch.no_grad():\n",
        "        model.eval()\n",
        "        out = model(Variable(torch.Tensor(X_test).to(device))).detach().cpu()\n",
        "        pred = (out >= 0.5).int().numpy().squeeze()\n",
        "        accuracy = sum((y_test == pred))/len(y_test)\n",
        "        print('Accuracy: ', accuracy)\n",
        "        accuracies.append(accuracy)\n",
        "\n",
        "    test_pred = test.copy()\n",
        "    test_pred.labels = pred.reshape(-1,1)\n",
        "    metric_rew = ClassificationMetric(test, test_pred,unprivileged_groups=unprivileged_groups, privileged_groups=privileged_groups)\n",
        "\n",
        "    metrics_rw[reg_lambda] = {}\n",
        "    metrics_rw[reg_lambda]['accuracy'] = accuracy\n",
        "    metrics_rw[reg_lambda]['privilaged'] = metric_rew.performance_measures(privileged=True)\n",
        "    metrics_rw[reg_lambda]['unprivilaged'] = metric_rew.performance_measures(privileged=False)\n",
        "\n",
        "    met = metric_rew.binary_confusion_matrix(privileged=True)\n",
        "    PR_priv = (met['TP'] + met['FP']) / (met['TP'] + met['FP'] + met['TN'] + met['FN'])\n",
        "    metrics_rw[reg_lambda]['privilaged']['PR'] = PR_priv\n",
        "\n",
        "    met = metric_rew.binary_confusion_matrix(privileged=False)\n",
        "    PR_unpriv = (met['TP'] + met['FP']) / (met['TP'] + met['FP'] + met['TN'] + met['FN'])\n",
        "    metrics_rw[reg_lambda]['unprivilaged']['PR'] = PR_unpriv\n",
        "    \n",
        "save_obj(metrics, 'metrics_compas_rw')\n"
      ],
      "execution_count": 0,
      "outputs": []
    },
    {
      "cell_type": "markdown",
      "metadata": {
        "id": "4HAiZ3adYU2-",
        "colab_type": "text"
      },
      "source": [
        "Plot accuracy with respect to $\\lambda$:"
      ]
    },
    {
      "cell_type": "code",
      "metadata": {
        "id": "miXgPYyR8kSY",
        "colab_type": "code",
        "outputId": "52db36b5-792a-4dee-aea7-b26d52ec5e14",
        "colab": {
          "base_uri": "https://localhost:8080/",
          "height": 312
        }
      },
      "source": [
        "plt.plot(lambdas, accuracies)\n",
        "plt.title('Accuracy of Logistic Regression on COMPAS dataset')\n",
        "plt.xlabel('Reg-lambda')\n",
        "plt.ylabel('Accuracy')"
      ],
      "execution_count": 0,
      "outputs": [
        {
          "output_type": "execute_result",
          "data": {
            "text/plain": [
              "Text(0, 0.5, 'Accuracy')"
            ]
          },
          "metadata": {
            "tags": []
          },
          "execution_count": 104
        },
        {
          "output_type": "display_data",
          "data": {
            "image/png": "[encoded data removed]",
            "text/plain": [
              "<Figure size 432x288 with 1 Axes>"
            ]
          },
          "metadata": {
            "tags": []
          }
        }
      ]
    },
    {
      "cell_type": "markdown",
      "metadata": {
        "id": "sfnzKjyaYefi",
        "colab_type": "text"
      },
      "source": [
        "Plot TPR and NPR for each sensitive class with respect to $\\lambda$:\n",
        "\n",
        "\n"
      ]
    },
    {
      "cell_type": "code",
      "metadata": {
        "id": "NLnHVsSEkWcG",
        "colab_type": "code",
        "outputId": "3534dfb6-bc02-48c8-8ac8-af9011d2b784",
        "colab": {
          "base_uri": "https://localhost:8080/",
          "height": 387
        }
      },
      "source": [
        "TPR_priv_rw = []\n",
        "TPR_non_priv_rw = []\n",
        "TNR_priv_rw = []\n",
        "TNR_non_priv_rw = []\n",
        "for l in metrics_rw:\n",
        "    TPR_priv_rw.append(metrics_rw[l]['privilaged']['TPR'])\n",
        "    TPR_non_priv_rw.append(metrics_rw[l]['unprivilaged']['TPR'])\n",
        "    TNR_priv_rw.append(metrics_rw[l]['privilaged']['TNR'])\n",
        "    TNR_non_priv_rw.append(metrics_rw[l]['unprivilaged']['TNR'])\n",
        "\n",
        "fig, axs = plt.subplots(1, 2, figsize=(10,5))\n",
        "fig.suptitle('Investigating Equalized Odds')\n",
        "axs[0].plot(lambdas, TPR_non_priv_rw)\n",
        "axs[0].plot(lambdas, TPR_priv_rw)\n",
        "axs[0].set_title('TPR')\n",
        "axs[0].set(xlabel='Reg-lambda', ylabel='TPR')\n",
        "axs[0].legend(['Non-Caucasian', 'Caucasian'])\n",
        "\n",
        "\n",
        "axs[1].plot(lambdas, TNR_non_priv_rw)\n",
        "axs[1].plot(lambdas, TNR_priv_rw)\n",
        "axs[1].set_title('TNR')\n",
        "axs[1].set(xlabel='Reg-lambda', ylabel='TNR')\n",
        "axs[1].legend(['Non-Caucasian', 'Caucasian'])\n",
        "axs[1].set(ylim=(0, 1))"
      ],
      "execution_count": 0,
      "outputs": [
        {
          "output_type": "execute_result",
          "data": {
            "text/plain": [
              "[(0.0, 1.0)]"
            ]
          },
          "metadata": {
            "tags": []
          },
          "execution_count": 110
        },
        {
          "output_type": "display_data",
          "data": {
            "image/png": "[encoded data removed]",
            "text/plain": [
              "<Figure size 720x360 with 2 Axes>"
            ]
          },
          "metadata": {
            "tags": []
          }
        }
      ]
    },
    {
      "cell_type": "markdown",
      "metadata": {
        "id": "TUe3I40BYhXo",
        "colab_type": "text"
      },
      "source": [
        "Plot positive and negative predictive parity for each sensitive class with respect to $\\lambda$:\n"
      ]
    },
    {
      "cell_type": "code",
      "metadata": {
        "id": "xwcPsfXVCYtO",
        "colab_type": "code",
        "outputId": "f8479650-8ad0-44b3-8e57-50462f247b9b",
        "colab": {
          "base_uri": "https://localhost:8080/",
          "height": 387
        }
      },
      "source": [
        "PPP_priv_rw = []\n",
        "PPP_non_priv_rw = []\n",
        "NPP_priv_rw = []\n",
        "NPP_non_priv_rw = []\n",
        "for l in metrics_rw:\n",
        "    PPP_priv_rw.append(metrics_rw[l]['privilaged']['PPV'])\n",
        "    PPP_non_priv_rw.append(metrics_rw[l]['unprivilaged']['PPV'])\n",
        "    NPP_priv_rw.append(metrics_rw[l]['privilaged']['NPV'])\n",
        "    NPP_non_priv_rw.append(metrics_rw[l]['unprivilaged']['NPV'])\n",
        "\n",
        "fig, axs = plt.subplots(1, 2, figsize=(10,5))\n",
        "fig.suptitle('Investigating Predictive Parity')\n",
        "axs[0].plot(lambdas, PPP_non_priv_rw)\n",
        "axs[0].plot(lambdas, PPP_priv_rw)\n",
        "axs[0].set_title('PPP')\n",
        "axs[0].set(xlabel='Reg-lambda', ylabel='PPP')\n",
        "axs[0].legend(['Non-Caucasian', 'Caucasian'])\n",
        "axs[0].set(ylim=(0.4,0.8))\n",
        "\n",
        "axs[1].plot(lambdas, NPP_non_priv_rw)\n",
        "axs[1].plot(lambdas, NPP_priv_rw)\n",
        "axs[1].set_title('NPP')\n",
        "axs[1].set(xlabel='Reg-lambda', ylabel='NPP')\n",
        "axs[1].legend(['Non-Caucasian', 'Caucasian'])\n",
        "axs[1].set(ylim=(0.4,0.8))"
      ],
      "execution_count": 0,
      "outputs": [
        {
          "output_type": "execute_result",
          "data": {
            "text/plain": [
              "[(0.4, 0.8)]"
            ]
          },
          "metadata": {
            "tags": []
          },
          "execution_count": 111
        },
        {
          "output_type": "display_data",
          "data": {
            "image/png": "[encoded data removed]",
            "text/plain": [
              "<Figure size 720x360 with 2 Axes>"
            ]
          },
          "metadata": {
            "tags": []
          }
        }
      ]
    },
    {
      "cell_type": "markdown",
      "metadata": {
        "id": "d0ZHWIGOYr9Y",
        "colab_type": "text"
      },
      "source": [
        "Plot PR for each sensitive class with respect to $\\lambda$:\n"
      ]
    },
    {
      "cell_type": "code",
      "metadata": {
        "id": "etyZo3IpDbYk",
        "colab_type": "code",
        "outputId": "2ed9487a-dc1b-4d3c-cffb-a5906d5218a0",
        "colab": {
          "base_uri": "https://localhost:8080/",
          "height": 367
        }
      },
      "source": [
        "PR_priv_rw = []\n",
        "PR_non_priv_rw = []\n",
        "ACC = []\n",
        "for l in metrics_rw:\n",
        "    PR_priv_rw.append(metrics_rw[l]['privilaged']['PR'])\n",
        "    PR_non_priv_rw.append(metrics_rw[l]['unprivilaged']['PR'])\n",
        "\n",
        "    ACC.append(metrics_rw[l]['accuracy'])\n",
        "\n",
        "\n",
        "fig, axs = plt.subplots(1, 2, figsize=(10,5))\n",
        "axs[1].set_title('Investigating Demographic Parity')\n",
        "axs[1].plot(lambdas, PR_non_priv_rw)\n",
        "axs[1].plot(lambdas, PR_priv_rw)\n",
        "axs[1].set(xlabel='Reg-lambda', ylabel='Positive Rate')\n",
        "axs[1].legend(['Non-Caucasian', 'Caucasian'])\n",
        "\n",
        "axs[0].plot(lambdas, ACC)\n",
        "axs[0].set_title('Accuracy')\n",
        "axs[0].set(xlabel='Reg-lambda', ylabel = 'Accuracy')\n",
        "axs[0].set(ylim=(0.63,0.67))"
      ],
      "execution_count": 0,
      "outputs": [
        {
          "output_type": "execute_result",
          "data": {
            "text/plain": [
              "[(0.63, 0.67)]"
            ]
          },
          "metadata": {
            "tags": []
          },
          "execution_count": 136
        },
        {
          "output_type": "display_data",
          "data": {
            "image/png": "[encoded data removed]",
            "text/plain": [
              "<Figure size 720x360 with 2 Axes>"
            ]
          },
          "metadata": {
            "tags": []
          }
        }
      ]
    },
    {
      "cell_type": "code",
      "metadata": {
        "id": "cmLDU5XpWvLI",
        "colab_type": "code",
        "colab": {}
      },
      "source": [
        "with torch.no_grad():\n",
        "    model.eval()\n",
        "    out = model(Variable(torch.Tensor(X_test).to(device))).detach().cpu()\n",
        "\n",
        "t = test.copy()\n",
        "\n",
        "class1 = t.labels[t.features[:,1] == 0]\n",
        "class2 = t.labels[t.features[:,1] == 1]\n",
        "pred_class1 = out[t.features[:,1] == 0]\n",
        "pred_class2 = out[t.features[:,1] == 1]"
      ],
      "execution_count": 0,
      "outputs": []
    },
    {
      "cell_type": "code",
      "metadata": {
        "id": "qngkzzClZPJ1",
        "colab_type": "code",
        "outputId": "ed4d7998-3710-4b4d-bce3-967d9d245125",
        "colab": {
          "base_uri": "https://localhost:8080/",
          "height": 50
        }
      },
      "source": [
        "pip install scikitplot"
      ],
      "execution_count": 0,
      "outputs": [
        {
          "output_type": "stream",
          "text": [
            "\u001b[31mERROR: Could not find a version that satisfies the requirement scikitplot (from versions: none)\u001b[0m\n",
            "\u001b[31mERROR: No matching distribution found for scikitplot\u001b[0m\n"
          ],
          "name": "stdout"
        }
      ]
    },
    {
      "cell_type": "code",
      "metadata": {
        "id": "5b07KM5NHfaP",
        "colab_type": "code",
        "outputId": "f029ccca-a203-4061-cf53-effd58655a57",
        "colab": {
          "base_uri": "https://localhost:8080/",
          "height": 282
        }
      },
      "source": [
        "\n",
        "from sklearn import svm, datasets\n",
        "from sklearn import metrics\n",
        "from sklearn.linear_model import LogisticRegression\n",
        "from sklearn.model_selection import train_test_split\n",
        "from sklearn.datasets import load_breast_cancer\n",
        "import matplotlib.pyplot as plt\n",
        "fpr, tpr, _ = metrics.roc_curve(class1,  pred_class1)\n",
        "auc = metrics.roc_auc_score(class1,  pred_class1)\n",
        "plt.plot(fpr,tpr,label=\"data 1, auc=\"+str(auc))\n",
        "\n",
        "fpr, tpr, _ = metrics.roc_curve(class2,  pred_class2)\n",
        "auc = metrics.roc_auc_score(class2,  pred_class2)\n",
        "plt.plot(fpr,tpr,label=\"data 2, auc=\"+str(auc))\n",
        "plt.legend()\n",
        "\n",
        "plt.plot(np.linspace(0,1), np.linspace(0,1),'k--')"
      ],
      "execution_count": 0,
      "outputs": [
        {
          "output_type": "execute_result",
          "data": {
            "text/plain": [
              "[<matplotlib.lines.Line2D at 0x7f01d62a8710>]"
            ]
          },
          "metadata": {
            "tags": []
          },
          "execution_count": 187
        },
        {
          "output_type": "display_data",
          "data": {
            "image/png": "[encoded data removed]",
            "text/plain": [
              "<Figure size 432x288 with 1 Axes>"
            ]
          },
          "metadata": {
            "tags": []
          }
        }
      ]
    }
  ]
}